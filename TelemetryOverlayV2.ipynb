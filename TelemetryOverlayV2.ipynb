{
 "cells": [
  {
   "cell_type": "code",
   "execution_count": null,
   "metadata": {},
   "outputs": [],
   "source": [
    "import datetime\n",
    "import pandas as pd\n",
    "import pysrt\n",
    "import geopy.distance"
   ]
  },
  {
   "cell_type": "code",
   "execution_count": null,
   "metadata": {
    "code_folding": [
     0
    ]
   },
   "outputs": [],
   "source": [
    "def import_log(path):\n",
    "    df = pd.read_csv(path)\n",
    "    time = pd.to_datetime(df['Date'] + ' ' + df['Time']).to_frame('time')\n",
    "    gps = df['GPS'].str.split(' ', 1, expand=True).rename(columns={0:'lat', 1:'lon'})\n",
    "    gps['lat'] = gps['lat'].astype(float)\n",
    "    gps['lon'] = gps['lon'].astype(float)\n",
    "    return time.join(gps).join(df.drop(['Date', 'Time', 'GPS'], 1))"
   ]
  },
  {
   "cell_type": "code",
   "execution_count": null,
   "metadata": {
    "code_folding": [
     0,
     1,
     15,
     27
    ]
   },
   "outputs": [],
   "source": [
    "def calc_gps_speed(df, shift=3):\n",
    "    def calc_speed(row):\n",
    "        dist = geopy.distance.distance(row.gps_prev, row.gps_next).km\n",
    "        time = (row.time_next - row.time_prev) / pd.Timedelta(hours=1)\n",
    "        return dist / time\n",
    "    \n",
    "    t = df[['time', 'lat', 'lon']].copy()\n",
    "    t['gps'] = t.apply(lambda x: (x.lat, x.lon), axis=1)    \n",
    "    t['gps_prev'] = t.shift(shift)['gps']\n",
    "    t['gps_next'] = t.shift(-shift)['gps']\n",
    "    t['time_prev'] = t.shift(shift)['time']\n",
    "    t['time_next'] = t.shift(-shift)['time']\n",
    "    t = t.fillna(method='bfill').fillna(method='ffill')\n",
    "    return t.apply(calc_speed, axis=1)\n",
    "\n",
    "def calc_log_betaflight(df):\n",
    "    df['spd'] = (1.852*df['GSpd(kts)']) # knots to km/h\n",
    "    df['spd_avg'] = calc_gps_speed(df)\n",
    "    df['sats'] = df['Tmp2(@C)'] % 100\n",
    "    df['bat'] = df['VFAS(V)']\n",
    "    df['curr'] = df.rolling(window=4, min_periods=1, center=True, win_type='gaussian')['Curr(A)'].mean(std=2.5)\n",
    "    df['eff'] = (df['curr']/df['spd_avg'] * 1000)\n",
    "    df.loc[df['eff']>999, 'eff'] = 0\n",
    "    df['thr'] = (df['Thr'] / 20.48 + 50).round(0).astype(int) # -1024/1024 to percent\n",
    "    df.drop(['GSpd(kts)', 'Tmp2(@C)', 'VFAS(V)', 'Curr(A)', 'Thr'], axis=1, inplace=True)\n",
    "    return df\n",
    "\n",
    "def format_log_betaflight(df):\n",
    "    df['spd'] = df['spd'].round(0).astype(int)\n",
    "    df['spd_avg'] = df['spd_avg'].round(0).astype(int)\n",
    "    df['bat'] = df['bat'].round(1)\n",
    "    df['curr'] = df['bat'].round(0).astype(int)\n",
    "    df['eff'] = df['eff'].round(0).astype(int)\n",
    "    df['Alt(m)'] = df['Alt(m)'].round(0).astype(int)\n",
    "    return df[['time', 'lat', 'lon', 'Alt(m)', '0420', 'RSSI(dB)', 'spd', 'spd_avg', 'sats', 'bat', 'curr', 'eff', 'thr']]"
   ]
  },
  {
   "cell_type": "code",
   "execution_count": null,
   "metadata": {
    "code_folding": [
     0,
     8,
     56,
     64
    ]
   },
   "outputs": [],
   "source": [
    "# export_subtitles\n",
    "\n",
    "def format_time_srt(s):\n",
    "    hours, remainder = divmod(s, 3600)\n",
    "    minutes, remainder = divmod(remainder, 60)\n",
    "    seconds, remainder = divmod(remainder, 1)\n",
    "    return '{:02}:{:02}:{:02},{:03}'.format(int(hours), int(minutes), int(seconds), int(remainder*1000))\n",
    "\n",
    "def format_srt(x):\n",
    "#     + 'SG=' + str(x.SG) + '   '\\\n",
    "    return str(x.name + 1) + '\\n' + format_time_srt(x.start) + ' --> ' + format_time_srt(x.end) + '\\n'\\\n",
    "    + str(x.alt) + ' m   '\\\n",
    "    + str(x.spd) + ' km/h   '\\\n",
    "    + str(x.curr) + ' A\\n\\n'\n",
    "\n",
    "ssa_header = '''[Script Info]\n",
    "PlayResX: 1280\n",
    "PlayResY: 720\n",
    "WrapStyle: 1\n",
    "\n",
    "[V4+ Styles]\n",
    "Format: Name, Fontname, Fontsize, PrimaryColour, Alignment, Outline\n",
    "Style: Default, Segoe UI Symbol,36,&HFFFFFF,5,1\n",
    "Style: A1, Segoe UI Symbol,36,&HFFFFFF,7,1\n",
    "Style: A2, Segoe UI Symbol,36,&HFFFFFF,4,1\n",
    "Style: A3, Segoe UI Symbol,36,&HFFFFFF,1,1\n",
    "\n",
    "[Events]\n",
    "Format: Start, End, Style, Text\n",
    "'''\n",
    "\n",
    "def format_time_ssa(s):\n",
    "    hours, remainder = divmod(s, 3600)\n",
    "    minutes, remainder = divmod(remainder, 60)\n",
    "    seconds, remainder = divmod(remainder, 1)\n",
    "    return f'{int(hours):02}:{int(minutes):02}:{int(seconds):02}.{int(remainder*100):02}'\n",
    "\n",
    "def format_ssa(x):\n",
    "    s = f'Dialogue: {format_time_ssa(x.start)},{format_time_ssa(x.end)}' + ',A1,{\\pos(16,16)}'\\\n",
    "    + f'📡 {x.sats}\\\\N'\\\n",
    "    + f' {x[\"RSSI(dB)\"]}\\\\N'\\\n",
    "    + f' {x[\"0420\"]}\\\\N'\\\n",
    "    + '\\n'\n",
    "    \n",
    "    s += f'Dialogue: {format_time_ssa(x.start)},{format_time_ssa(x.end)}' + ',A2,{\\pos(16,350)}'\\\n",
    "    + f'{x[\"Alt(m)\"]} m\\\\N'\\\n",
    "    + f'{x.spd_avg} ㎞/h\\\\N'\\\n",
    "    + f'EFF {x.eff}\\\\N'\\\n",
    "    + '\\n'\n",
    "    \n",
    "    s += f'Dialogue: {format_time_ssa(x.start)},{format_time_ssa(x.end)}' + ',A3,{\\pos(16,700)}'\\\n",
    "    + f'🔋{x.curr:2d} A\\\\N'\\\n",
    "    + f'{x.bat} V\\\\N'\\\n",
    "    + '\\n'\n",
    "    return s\n",
    "\n",
    "def export_subtitles_file(df, out_file, formatter):\n",
    "    ext = '.srt' if formatter == format_srt else '.ssa'\n",
    "    with open(out_file + ext, \"w\", encoding='utf-8') as f:\n",
    "        if formatter == format_ssa:\n",
    "            f.write(ssa_header)\n",
    "        for index, row in df.iterrows():\n",
    "            f.write(formatter(row))\n",
    "\n",
    "def export_subtitles(df, out_file, formatter=format_ssa, skip_log_rows=0, speed_correction=1, shift_sec=0, split_sec=0):\n",
    "    max_length_sec = 5\n",
    "    t = df.iloc[skip_log_rows:].reset_index(drop=True)\n",
    "    t['start'] = (t['time'] - t.iloc[0]['time']).dt.total_seconds() # seconds from start\n",
    "    t['start'] = t['start'] * speed_correction # recorder speed deviation compensation\n",
    "    t['start'] = t['start'] + shift_sec\n",
    "    t['end'] = t.shift(-1)['start']   \n",
    "    mask = t['end'] - t['start'] > max_length_sec\n",
    "    t.loc[mask, 'end'] = t.loc[mask, 'start'] + max_length_sec    \n",
    "    t.dropna(subset=['end'], inplace=True) # drop last row\n",
    "        \n",
    "    if split_sec == 0:\n",
    "        export_subtitles_file(t, out_file, formatter)\n",
    "    else:\n",
    "        n = 0\n",
    "        while t.shape[0] > 0:\n",
    "            export_subtitles_file(t[t.start < split_sec], out_file + str(n), formatter)\n",
    "            t = t[t.start >= split_sec]\n",
    "            t['start'] = t['start'] - split_sec\n",
    "            t['end'] = t['end'] - split_sec\n",
    "            n += 1"
   ]
  },
  {
   "cell_type": "code",
   "execution_count": null,
   "metadata": {
    "scrolled": true
   },
   "outputs": [],
   "source": [
    "log_dir = 'c:/Dropbox/Projects/FPV/_Logs/Taranis/'\n",
    "work_dir = 'c:/Projects/FPV/_Video/2021-05-20_Titan_antenna_test/'\n",
    "df = import_log(log_dir + 'Titan-2021-05-20.csv')\n",
    "df = calc_log_betaflight(df)\n",
    "df = format_log_betaflight(df)\n",
    "export_subtitles(df, work_dir + 'RC_000', skip_log_rows=0, shift_sec=31, split_sec=480)"
   ]
  },
  {
   "cell_type": "code",
   "execution_count": null,
   "metadata": {},
   "outputs": [],
   "source": [
    "t = df[['Alt(m)', 'spd_avg', 'eff']].copy()\n",
    "t.loc[t['eff']==0, 'eff'] = float('NaN')\n",
    "t.loc[t['eff']>400, 'eff'] = float('NaN')\n",
    "t['eff'] = t.rolling(window=20, min_periods=1, center=True)['eff'].mean()\n",
    "t['eff'] = t['eff']/2\n",
    "t.plot(figsize=(17,12), grid=True)"
   ]
  }
 ],
 "metadata": {
  "kernelspec": {
   "display_name": "Python 3",
   "language": "python",
   "name": "python3"
  },
  "language_info": {
   "codemirror_mode": {
    "name": "ipython",
    "version": 3
   },
   "file_extension": ".py",
   "mimetype": "text/x-python",
   "name": "python",
   "nbconvert_exporter": "python",
   "pygments_lexer": "ipython3",
   "version": "3.8.5"
  }
 },
 "nbformat": 4,
 "nbformat_minor": 4
}
